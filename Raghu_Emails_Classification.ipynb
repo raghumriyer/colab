{
  "nbformat": 4,
  "nbformat_minor": 0,
  "metadata": {
    "colab": {
      "name": "Raghu_Emails_Classification.ipynb",
      "provenance": [],
      "collapsed_sections": [],
      "toc_visible": true,
      "include_colab_link": true
    },
    "kernelspec": {
      "name": "python3",
      "display_name": "Python 3"
    }
  },
  "cells": [
    {
      "cell_type": "markdown",
      "metadata": {
        "id": "view-in-github",
        "colab_type": "text"
      },
      "source": [
        "<a href=\"https://colab.research.google.com/github/raghumriyer/colab/blob/master/Raghu_Emails_Classification.ipynb\" target=\"_parent\"><img src=\"https://colab.research.google.com/assets/colab-badge.svg\" alt=\"Open In Colab\"/></a>"
      ]
    },
    {
      "cell_type": "markdown",
      "metadata": {
        "id": "3UEJu4FoepAp",
        "colab_type": "text"
      },
      "source": [
        "##Import Mbox data"
      ]
    },
    {
      "cell_type": "markdown",
      "metadata": {
        "id": "GWaLcuYNmn_G",
        "colab_type": "text"
      },
      "source": [
        "**Download all your gmails from google account in mbox data format**"
      ]
    },
    {
      "cell_type": "code",
      "metadata": {
        "id": "r6IsWbY361qN",
        "colab_type": "code",
        "colab": {
          "base_uri": "https://localhost:8080/",
          "height": 54
        },
        "outputId": "29bc824b-53ff-4b81-8258-97d9b01b7511"
      },
      "source": [
        "from google.colab import drive\n",
        "drive.mount('/content/drive')"
      ],
      "execution_count": 3,
      "outputs": [
        {
          "output_type": "stream",
          "text": [
            "Drive already mounted at /content/drive; to attempt to forcibly remount, call drive.mount(\"/content/drive\", force_remount=True).\n"
          ],
          "name": "stdout"
        }
      ]
    },
    {
      "cell_type": "markdown",
      "metadata": {
        "id": "9TzNXh-XiYkZ",
        "colab_type": "text"
      },
      "source": [
        "## Explore the csv file"
      ]
    },
    {
      "cell_type": "code",
      "metadata": {
        "id": "MOV9KOWW8V_A",
        "colab_type": "code",
        "colab": {}
      },
      "source": [
        "import pandas as pd\n",
        "!cp '/content/drive/My Drive/Colab Notebooks/EmailClassifierFinal.csv' .\n",
        "df = pd.read_csv('EmailClassifierFinal.csv')\n",
        "#df.head(10)"
      ],
      "execution_count": 0,
      "outputs": []
    },
    {
      "cell_type": "code",
      "metadata": {
        "id": "buSZ8IvAcKtt",
        "colab_type": "code",
        "colab": {}
      },
      "source": [
        "df['subs'] = df['from'].map(str) + ' - ' + df['subject'].map(str)"
      ],
      "execution_count": 0,
      "outputs": []
    },
    {
      "cell_type": "code",
      "metadata": {
        "id": "j8V07LJxfHhh",
        "colab_type": "code",
        "colab": {
          "base_uri": "https://localhost:8080/",
          "height": 221
        },
        "outputId": "bcf3fdaf-2080-419e-eecc-4b4abe886240"
      },
      "source": [
        "df.subs"
      ],
      "execution_count": 6,
      "outputs": [
        {
          "output_type": "execute_result",
          "data": {
            "text/plain": [
              "0        info@airtelmail.info - Mobile Internet Usage I...\n",
              "1        info@airtelmail.info - Mobile Internet Usage I...\n",
              "2        info@airtelmail.info - Mobile Internet Usage I...\n",
              "3        interaction@zorpia.com - We send you RAVIKEERT...\n",
              "4        interaction@zorpia.com - b\"\\xe2\\x96\\xb6 Remind...\n",
              "                               ...                        \n",
              "24592    crmf@karvy.com - Scheme wise Monthly/Half Year...\n",
              "24593    epromotions@custcomm.icicibank.com - Hello tra...\n",
              "24594    notification+zj4oyt=foo96@facebookmail.com - T...\n",
              "24595    update+zj4oyt=foo96@facebookmail.com - Murali ...\n",
              "24596    intimations@cpc.gov.in - Intimation U/S 143(1)...\n",
              "Name: subs, Length: 24597, dtype: object"
            ]
          },
          "metadata": {
            "tags": []
          },
          "execution_count": 6
        }
      ]
    },
    {
      "cell_type": "code",
      "metadata": {
        "id": "7QBYiqFSj8dl",
        "colab_type": "code",
        "colab": {
          "base_uri": "https://localhost:8080/",
          "height": 187
        },
        "outputId": "9a12906a-b3e5-4350-915d-aa081e806290"
      },
      "source": [
        "df.info()"
      ],
      "execution_count": 7,
      "outputs": [
        {
          "output_type": "stream",
          "text": [
            "<class 'pandas.core.frame.DataFrame'>\n",
            "RangeIndex: 24597 entries, 0 to 24596\n",
            "Data columns (total 5 columns):\n",
            "date       24597 non-null object\n",
            "from       24597 non-null object\n",
            "subject    24597 non-null object\n",
            "Tags       24597 non-null object\n",
            "subs       24597 non-null object\n",
            "dtypes: object(5)\n",
            "memory usage: 960.9+ KB\n"
          ],
          "name": "stdout"
        }
      ]
    },
    {
      "cell_type": "code",
      "metadata": {
        "id": "vMq2aI_Pj_dy",
        "colab_type": "code",
        "colab": {}
      },
      "source": [
        "df.dropna(inplace=True)\n",
        "df.reset_index(drop=True, inplace=True)"
      ],
      "execution_count": 0,
      "outputs": []
    },
    {
      "cell_type": "markdown",
      "metadata": {
        "id": "vK-93uPml8SX",
        "colab_type": "text"
      },
      "source": [
        "**Manually Tag the dataset by downloading it locally**"
      ]
    },
    {
      "cell_type": "markdown",
      "metadata": {
        "id": "pVGgv9IRivBS",
        "colab_type": "text"
      },
      "source": [
        "## Data processing"
      ]
    },
    {
      "cell_type": "code",
      "metadata": {
        "id": "1D7oeE0egD_v",
        "colab_type": "code",
        "outputId": "d56edf69-0e0d-4291-cbbf-062e413f1c3b",
        "colab": {
          "base_uri": "https://localhost:8080/",
          "height": 34
        }
      },
      "source": [
        "from tensorflow.keras.preprocessing.text import Tokenizer\n",
        "from tensorflow.keras.preprocessing.sequence import pad_sequences\n",
        "\n",
        "# create the tokenizer\n",
        "t = Tokenizer()\n",
        "# fit the tokenizer\n",
        "t.fit_on_texts(df.subs.values)\n",
        "\n",
        "# summarize what was learned\n",
        "#print(t.word_counts)\n",
        "#print(t.document_count)\n",
        "#print(t.word_index)\n",
        "#print(t.word_docs)\n",
        "\n",
        "# integer encode documents\n",
        "encoded_text = t.texts_to_sequences(df.subs.values)\n",
        "encoded_text = pad_sequences(encoded_text)\n",
        "print(encoded_text.shape)"
      ],
      "execution_count": 9,
      "outputs": [
        {
          "output_type": "stream",
          "text": [
            "(24597, 34)\n"
          ],
          "name": "stdout"
        }
      ]
    },
    {
      "cell_type": "code",
      "metadata": {
        "id": "XcEDgI-yhQm8",
        "colab_type": "code",
        "colab": {
          "base_uri": "https://localhost:8080/",
          "height": 34
        },
        "outputId": "e501958a-67e8-403d-e98b-25f4a03c03a2"
      },
      "source": [
        "encoded_labels = pd.get_dummies(df['Tags']).values\n",
        "print(encoded_labels.shape)"
      ],
      "execution_count": 10,
      "outputs": [
        {
          "output_type": "stream",
          "text": [
            "(24597, 3)\n"
          ],
          "name": "stdout"
        }
      ]
    },
    {
      "cell_type": "markdown",
      "metadata": {
        "id": "wvc3IGdWhUr8",
        "colab_type": "text"
      },
      "source": [
        "## Train Valid Split"
      ]
    },
    {
      "cell_type": "code",
      "metadata": {
        "id": "Gs1CgAqFhWTd",
        "colab_type": "code",
        "colab": {
          "base_uri": "https://localhost:8080/",
          "height": 51
        },
        "outputId": "faca1c42-8558-47f5-b179-f02079917928"
      },
      "source": [
        "from sklearn.model_selection import train_test_split\n",
        "X_train, X_test, Y_train, Y_test = train_test_split(encoded_text, encoded_labels, test_size = 0.20, random_state = 101)\n",
        "print(X_train.shape,Y_train.shape)\n",
        "print(X_test.shape,Y_test.shape)"
      ],
      "execution_count": 11,
      "outputs": [
        {
          "output_type": "stream",
          "text": [
            "(19677, 34) (19677, 3)\n",
            "(4920, 34) (4920, 3)\n"
          ],
          "name": "stdout"
        }
      ]
    },
    {
      "cell_type": "markdown",
      "metadata": {
        "id": "jABmSdzghdIS",
        "colab_type": "text"
      },
      "source": [
        "## Model Training"
      ]
    },
    {
      "cell_type": "code",
      "metadata": {
        "id": "2dKZSqzghclX",
        "colab_type": "code",
        "colab": {
          "base_uri": "https://localhost:8080/",
          "height": 462
        },
        "outputId": "c13d5426-eca4-4023-ff50-fcc6cde889c5"
      },
      "source": [
        "from tensorflow.keras.models import Sequential\n",
        "from tensorflow.keras.layers import Dense, SpatialDropout1D, Dropout, LSTM, Embedding\n",
        "\n",
        "# define the LSTM model\n",
        "model = Sequential()\n",
        "model.add(Embedding(len(t.word_index)+1, 1024, input_length = X_train.shape[1]))\n",
        "model.add(SpatialDropout1D(0.2))\n",
        "model.add(LSTM(512, dropout=0.2, return_sequences=True))\n",
        "model.add(LSTM(256, dropout=0.1, recurrent_dropout=0.2))\n",
        "model.add(Dense(Y_train.shape[1], activation='softmax'))\n",
        "model.compile(loss='categorical_crossentropy', optimizer='adam', metrics=['accuracy'])\n",
        "print(model.summary())"
      ],
      "execution_count": 12,
      "outputs": [
        {
          "output_type": "stream",
          "text": [
            "WARNING:tensorflow:From /usr/local/lib/python3.6/dist-packages/tensorflow_core/python/keras/initializers.py:119: calling RandomUniform.__init__ (from tensorflow.python.ops.init_ops) with dtype is deprecated and will be removed in a future version.\n",
            "Instructions for updating:\n",
            "Call initializer instance with the dtype argument instead of passing it to the constructor\n",
            "WARNING:tensorflow:From /usr/local/lib/python3.6/dist-packages/tensorflow_core/python/ops/resource_variable_ops.py:1630: calling BaseResourceVariable.__init__ (from tensorflow.python.ops.resource_variable_ops) with constraint is deprecated and will be removed in a future version.\n",
            "Instructions for updating:\n",
            "If using Keras pass *_constraint arguments to layers.\n",
            "Model: \"sequential\"\n",
            "_________________________________________________________________\n",
            "Layer (type)                 Output Shape              Param #   \n",
            "=================================================================\n",
            "embedding (Embedding)        (None, 34, 1024)          13453312  \n",
            "_________________________________________________________________\n",
            "spatial_dropout1d (SpatialDr (None, 34, 1024)          0         \n",
            "_________________________________________________________________\n",
            "lstm (LSTM)                  (None, 34, 512)           3147776   \n",
            "_________________________________________________________________\n",
            "lstm_1 (LSTM)                (None, 256)               787456    \n",
            "_________________________________________________________________\n",
            "dense (Dense)                (None, 3)                 771       \n",
            "=================================================================\n",
            "Total params: 17,389,315\n",
            "Trainable params: 17,389,315\n",
            "Non-trainable params: 0\n",
            "_________________________________________________________________\n",
            "None\n"
          ],
          "name": "stdout"
        }
      ]
    },
    {
      "cell_type": "code",
      "metadata": {
        "id": "hfsjW_YIhz2G",
        "colab_type": "code",
        "colab": {
          "base_uri": "https://localhost:8080/",
          "height": 1000
        },
        "outputId": "4cb4859f-d718-40e9-9fd9-5becf13561de"
      },
      "source": [
        "from tensorflow.keras.callbacks import ModelCheckpoint\n",
        "# define the checkpoint\n",
        "checkpoint = ModelCheckpoint(\"model.h5\", monitor='val_acc', verbose=1, save_best_only=True, mode='max')\n",
        "\n",
        "# Fit the Model to data\n",
        "model.fit(X_train, Y_train, epochs=30, batch_size=128, validation_data=(X_test, Y_test), verbose=1, callbacks=[checkpoint])"
      ],
      "execution_count": 13,
      "outputs": [
        {
          "output_type": "stream",
          "text": [
            "WARNING:tensorflow:From /usr/local/lib/python3.6/dist-packages/tensorflow_core/python/ops/math_grad.py:1424: where (from tensorflow.python.ops.array_ops) is deprecated and will be removed in a future version.\n",
            "Instructions for updating:\n",
            "Use tf.where in 2.0, which has the same broadcast rule as np.where\n",
            "Train on 19677 samples, validate on 4920 samples\n",
            "Epoch 1/30\n",
            "19584/19677 [============================>.] - ETA: 2s - loss: 0.1726 - acc: 0.9540\n",
            "Epoch 00001: val_acc improved from -inf to 0.98862, saving model to model.h5\n",
            "19677/19677 [==============================] - 529s 27ms/sample - loss: 0.1719 - acc: 0.9542 - val_loss: 0.0358 - val_acc: 0.9886\n",
            "Epoch 2/30\n",
            "19584/19677 [============================>.] - ETA: 2s - loss: 0.0246 - acc: 0.9916\n",
            "Epoch 00002: val_acc improved from 0.98862 to 0.99126, saving model to model.h5\n",
            "19677/19677 [==============================] - 529s 27ms/sample - loss: 0.0245 - acc: 0.9916 - val_loss: 0.0297 - val_acc: 0.9913\n",
            "Epoch 3/30\n",
            "19584/19677 [============================>.] - ETA: 2s - loss: 0.0106 - acc: 0.9966\n",
            "Epoch 00003: val_acc improved from 0.99126 to 0.99634, saving model to model.h5\n",
            "19677/19677 [==============================] - 527s 27ms/sample - loss: 0.0107 - acc: 0.9965 - val_loss: 0.0169 - val_acc: 0.9963\n",
            "Epoch 4/30\n",
            "19584/19677 [============================>.] - ETA: 2s - loss: 0.0046 - acc: 0.9987\n",
            "Epoch 00004: val_acc did not improve from 0.99634\n",
            "19677/19677 [==============================] - 525s 27ms/sample - loss: 0.0046 - acc: 0.9987 - val_loss: 0.0167 - val_acc: 0.9959\n",
            "Epoch 5/30\n",
            "19584/19677 [============================>.] - ETA: 2s - loss: 0.0030 - acc: 0.9991\n",
            "Epoch 00005: val_acc did not improve from 0.99634\n",
            "19677/19677 [==============================] - 526s 27ms/sample - loss: 0.0030 - acc: 0.9991 - val_loss: 0.0170 - val_acc: 0.9963\n",
            "Epoch 6/30\n",
            "19584/19677 [============================>.] - ETA: 2s - loss: 0.0028 - acc: 0.9993\n",
            "Epoch 00006: val_acc improved from 0.99634 to 0.99654, saving model to model.h5\n",
            "19677/19677 [==============================] - 526s 27ms/sample - loss: 0.0028 - acc: 0.9993 - val_loss: 0.0172 - val_acc: 0.9965\n",
            "Epoch 7/30\n",
            "19584/19677 [============================>.] - ETA: 2s - loss: 0.0015 - acc: 0.9995\n",
            "Epoch 00007: val_acc did not improve from 0.99654\n",
            "19677/19677 [==============================] - 524s 27ms/sample - loss: 0.0015 - acc: 0.9995 - val_loss: 0.0190 - val_acc: 0.9965\n",
            "Epoch 8/30\n",
            "19584/19677 [============================>.] - ETA: 2s - loss: 0.0019 - acc: 0.9996\n",
            "Epoch 00008: val_acc did not improve from 0.99654\n",
            "19677/19677 [==============================] - 521s 26ms/sample - loss: 0.0019 - acc: 0.9996 - val_loss: 0.0193 - val_acc: 0.9963\n",
            "Epoch 9/30\n",
            "19584/19677 [============================>.] - ETA: 2s - loss: 0.0019 - acc: 0.9995\n",
            "Epoch 00009: val_acc improved from 0.99654 to 0.99756, saving model to model.h5\n",
            "19677/19677 [==============================] - 522s 27ms/sample - loss: 0.0019 - acc: 0.9995 - val_loss: 0.0163 - val_acc: 0.9976\n",
            "Epoch 10/30\n",
            "19584/19677 [============================>.] - ETA: 2s - loss: 0.0026 - acc: 0.9993\n",
            "Epoch 00010: val_acc did not improve from 0.99756\n",
            "19677/19677 [==============================] - 522s 27ms/sample - loss: 0.0025 - acc: 0.9993 - val_loss: 0.0207 - val_acc: 0.9965\n",
            "Epoch 11/30\n",
            "19584/19677 [============================>.] - ETA: 2s - loss: 0.0017 - acc: 0.9994\n",
            "Epoch 00011: val_acc did not improve from 0.99756\n",
            "19677/19677 [==============================] - 522s 27ms/sample - loss: 0.0017 - acc: 0.9994 - val_loss: 0.0189 - val_acc: 0.9972\n",
            "Epoch 12/30\n",
            "19584/19677 [============================>.] - ETA: 2s - loss: 0.0012 - acc: 0.9995\n",
            "Epoch 00012: val_acc did not improve from 0.99756\n",
            "19677/19677 [==============================] - 520s 26ms/sample - loss: 0.0012 - acc: 0.9995 - val_loss: 0.0171 - val_acc: 0.9974\n",
            "Epoch 13/30\n",
            "19584/19677 [============================>.] - ETA: 2s - loss: 8.6301e-04 - acc: 0.9997\n",
            "Epoch 00013: val_acc did not improve from 0.99756\n",
            "19677/19677 [==============================] - 520s 26ms/sample - loss: 8.5928e-04 - acc: 0.9997 - val_loss: 0.0182 - val_acc: 0.9972\n",
            "Epoch 14/30\n",
            "19584/19677 [============================>.] - ETA: 2s - loss: 8.2868e-04 - acc: 0.9997\n",
            "Epoch 00014: val_acc did not improve from 0.99756\n",
            "19677/19677 [==============================] - 521s 26ms/sample - loss: 8.2485e-04 - acc: 0.9997 - val_loss: 0.0179 - val_acc: 0.9974\n",
            "Epoch 15/30\n",
            "19584/19677 [============================>.] - ETA: 2s - loss: 8.6692e-04 - acc: 0.9997\n",
            "Epoch 00015: val_acc did not improve from 0.99756\n",
            "19677/19677 [==============================] - 522s 27ms/sample - loss: 8.6297e-04 - acc: 0.9997 - val_loss: 0.0182 - val_acc: 0.9974\n",
            "Epoch 16/30\n",
            "19584/19677 [============================>.] - ETA: 2s - loss: 8.8104e-04 - acc: 0.9997\n",
            "Epoch 00016: val_acc did not improve from 0.99756\n",
            "19677/19677 [==============================] - 522s 27ms/sample - loss: 8.7691e-04 - acc: 0.9997 - val_loss: 0.0177 - val_acc: 0.9972\n",
            "Epoch 17/30\n",
            "19584/19677 [============================>.] - ETA: 2s - loss: 7.6015e-04 - acc: 0.9998\n",
            "Epoch 00017: val_acc did not improve from 0.99756\n",
            "19677/19677 [==============================] - 521s 26ms/sample - loss: 8.7304e-04 - acc: 0.9997 - val_loss: 0.0188 - val_acc: 0.9970\n",
            "Epoch 18/30\n",
            "19584/19677 [============================>.] - ETA: 2s - loss: 8.7871e-04 - acc: 0.9997\n",
            "Epoch 00018: val_acc did not improve from 0.99756\n",
            "19677/19677 [==============================] - 524s 27ms/sample - loss: 8.7480e-04 - acc: 0.9997 - val_loss: 0.0201 - val_acc: 0.9974\n",
            "Epoch 19/30\n",
            "19584/19677 [============================>.] - ETA: 2s - loss: 9.5972e-04 - acc: 0.9995\n",
            "Epoch 00019: val_acc did not improve from 0.99756\n",
            "19677/19677 [==============================] - 520s 26ms/sample - loss: 9.5562e-04 - acc: 0.9995 - val_loss: 0.0186 - val_acc: 0.9976\n",
            "Epoch 20/30\n",
            "19584/19677 [============================>.] - ETA: 2s - loss: 7.7632e-04 - acc: 0.9998\n",
            "Epoch 00020: val_acc did not improve from 0.99756\n",
            "19677/19677 [==============================] - 523s 27ms/sample - loss: 7.7273e-04 - acc: 0.9998 - val_loss: 0.0189 - val_acc: 0.9974\n",
            "Epoch 21/30\n",
            "19584/19677 [============================>.] - ETA: 2s - loss: 7.1849e-04 - acc: 0.9997\n",
            "Epoch 00021: val_acc did not improve from 0.99756\n",
            "19677/19677 [==============================] - 523s 27ms/sample - loss: 7.1538e-04 - acc: 0.9997 - val_loss: 0.0187 - val_acc: 0.9974\n",
            "Epoch 22/30\n",
            "19584/19677 [============================>.] - ETA: 2s - loss: 5.8646e-04 - acc: 0.9996\n",
            "Epoch 00022: val_acc did not improve from 0.99756\n",
            "19677/19677 [==============================] - 523s 27ms/sample - loss: 5.8373e-04 - acc: 0.9996 - val_loss: 0.0193 - val_acc: 0.9974\n",
            "Epoch 23/30\n",
            "19584/19677 [============================>.] - ETA: 2s - loss: 5.0999e-04 - acc: 0.9998\n",
            "Epoch 00023: val_acc did not improve from 0.99756\n",
            "19677/19677 [==============================] - 523s 27ms/sample - loss: 7.4499e-04 - acc: 0.9998 - val_loss: 0.0202 - val_acc: 0.9974\n",
            "Epoch 24/30\n",
            "19584/19677 [============================>.] - ETA: 2s - loss: 6.9616e-04 - acc: 0.9997\n",
            "Epoch 00024: val_acc did not improve from 0.99756\n",
            "19677/19677 [==============================] - 521s 26ms/sample - loss: 6.9289e-04 - acc: 0.9997 - val_loss: 0.0194 - val_acc: 0.9972\n",
            "Epoch 25/30\n",
            "19584/19677 [============================>.] - ETA: 2s - loss: 7.2832e-04 - acc: 0.9997\n",
            "Epoch 00025: val_acc did not improve from 0.99756\n",
            "19677/19677 [==============================] - 517s 26ms/sample - loss: 7.2521e-04 - acc: 0.9997 - val_loss: 0.0199 - val_acc: 0.9974\n",
            "Epoch 26/30\n",
            "19584/19677 [============================>.] - ETA: 2s - loss: 7.0128e-04 - acc: 0.9997\n",
            "Epoch 00026: val_acc did not improve from 0.99756\n",
            "19677/19677 [==============================] - 521s 26ms/sample - loss: 6.9809e-04 - acc: 0.9997 - val_loss: 0.0192 - val_acc: 0.9976\n",
            "Epoch 27/30\n",
            "19584/19677 [============================>.] - ETA: 2s - loss: 7.4183e-04 - acc: 0.9997\n",
            "Epoch 00027: val_acc did not improve from 0.99756\n",
            "19677/19677 [==============================] - 522s 27ms/sample - loss: 7.3833e-04 - acc: 0.9997 - val_loss: 0.0203 - val_acc: 0.9974\n",
            "Epoch 28/30\n",
            "19584/19677 [============================>.] - ETA: 2s - loss: 7.6359e-04 - acc: 0.9996\n",
            "Epoch 00028: val_acc did not improve from 0.99756\n",
            "19677/19677 [==============================] - 523s 27ms/sample - loss: 7.6003e-04 - acc: 0.9996 - val_loss: 0.0179 - val_acc: 0.9972\n",
            "Epoch 29/30\n",
            "19584/19677 [============================>.] - ETA: 2s - loss: 6.1181e-04 - acc: 0.9997\n",
            "Epoch 00029: val_acc did not improve from 0.99756\n",
            "19677/19677 [==============================] - 522s 27ms/sample - loss: 6.0896e-04 - acc: 0.9997 - val_loss: 0.0192 - val_acc: 0.9976\n",
            "Epoch 30/30\n",
            "19584/19677 [============================>.] - ETA: 2s - loss: 7.7886e-04 - acc: 0.9997\n",
            "Epoch 00030: val_acc did not improve from 0.99756\n",
            "19677/19677 [==============================] - 521s 26ms/sample - loss: 7.7522e-04 - acc: 0.9997 - val_loss: 0.0178 - val_acc: 0.9976\n"
          ],
          "name": "stdout"
        },
        {
          "output_type": "execute_result",
          "data": {
            "text/plain": [
              "<tensorflow.python.keras.callbacks.History at 0x7fc9d2d325f8>"
            ]
          },
          "metadata": {
            "tags": []
          },
          "execution_count": 13
        }
      ]
    },
    {
      "cell_type": "markdown",
      "metadata": {
        "id": "6Ot2kzflh8uq",
        "colab_type": "text"
      },
      "source": [
        "## Model Evaluation"
      ]
    },
    {
      "cell_type": "code",
      "metadata": {
        "id": "wM1XwpU8h_Gh",
        "colab_type": "code",
        "colab": {
          "base_uri": "https://localhost:8080/",
          "height": 224
        },
        "outputId": "b07ac92c-44d2-4396-e204-7fe574562e69"
      },
      "source": [
        "# load the model\n",
        "from tensorflow.keras.models import load_model\n",
        "bestmodel = load_model(\"model.h5\")\n",
        "\n",
        "score, acc = bestmodel.evaluate(X_test, Y_test, batch_size=128, verbose=0)\n",
        "print('Test score:', score)\n",
        "print('Test accuracy:', acc)"
      ],
      "execution_count": 14,
      "outputs": [
        {
          "output_type": "stream",
          "text": [
            "WARNING:tensorflow:From /usr/local/lib/python3.6/dist-packages/tensorflow_core/python/ops/init_ops.py:97: calling GlorotUniform.__init__ (from tensorflow.python.ops.init_ops) with dtype is deprecated and will be removed in a future version.\n",
            "Instructions for updating:\n",
            "Call initializer instance with the dtype argument instead of passing it to the constructor\n",
            "WARNING:tensorflow:From /usr/local/lib/python3.6/dist-packages/tensorflow_core/python/ops/init_ops.py:97: calling Orthogonal.__init__ (from tensorflow.python.ops.init_ops) with dtype is deprecated and will be removed in a future version.\n",
            "Instructions for updating:\n",
            "Call initializer instance with the dtype argument instead of passing it to the constructor\n",
            "WARNING:tensorflow:From /usr/local/lib/python3.6/dist-packages/tensorflow_core/python/ops/init_ops.py:97: calling Zeros.__init__ (from tensorflow.python.ops.init_ops) with dtype is deprecated and will be removed in a future version.\n",
            "Instructions for updating:\n",
            "Call initializer instance with the dtype argument instead of passing it to the constructor\n",
            "Test score: 0.016311643743221232\n",
            "Test accuracy: 0.997561\n"
          ],
          "name": "stdout"
        }
      ]
    },
    {
      "cell_type": "code",
      "metadata": {
        "id": "ZNtXvSTyi58X",
        "colab_type": "code",
        "colab": {
          "base_uri": "https://localhost:8080/",
          "height": 255
        },
        "outputId": "ef5e91dd-f5b3-49b3-9e33-4431f6189d29"
      },
      "source": [
        "from sklearn.metrics import confusion_matrix,classification_report\n",
        "import numpy as np\n",
        "Y_pred = bestmodel.predict_classes(X_test, batch_size = 128)\n",
        "df_test = pd.DataFrame({'true': Y_test.tolist(), 'pred':Y_pred})\n",
        "df_test['true'] = df_test['true'].apply(lambda x: np.argmax(x))\n",
        "print(\"confusion matrix \\n\", confusion_matrix(df_test.true, df_test.pred))\n",
        "print(classification_report(df_test.true, df_test.pred))"
      ],
      "execution_count": 16,
      "outputs": [
        {
          "output_type": "stream",
          "text": [
            "confusion matrix \n",
            " [[ 225    2    2]\n",
            " [   1   71    3]\n",
            " [   0    4 4612]]\n",
            "              precision    recall  f1-score   support\n",
            "\n",
            "           0       1.00      0.98      0.99       229\n",
            "           1       0.92      0.95      0.93        75\n",
            "           2       1.00      1.00      1.00      4616\n",
            "\n",
            "    accuracy                           1.00      4920\n",
            "   macro avg       0.97      0.98      0.97      4920\n",
            "weighted avg       1.00      1.00      1.00      4920\n",
            "\n"
          ],
          "name": "stdout"
        }
      ]
    },
    {
      "cell_type": "code",
      "metadata": {
        "id": "SDnkAjVClskx",
        "colab_type": "code",
        "colab": {}
      },
      "source": [
        "!cp -r 'model.h5' 'drive/My Drive/Colab Notebooks/'"
      ],
      "execution_count": 0,
      "outputs": []
    },
    {
      "cell_type": "markdown",
      "metadata": {
        "id": "Ssc5pYEhlzI9",
        "colab_type": "text"
      },
      "source": [
        "## Load pretrained model"
      ]
    },
    {
      "cell_type": "code",
      "metadata": {
        "id": "qhGuxhgijPd1",
        "colab_type": "code",
        "colab": {}
      },
      "source": [
        "!cp 'drive/My Drive/Colab Notebooks/model.h5' ."
      ],
      "execution_count": 0,
      "outputs": []
    },
    {
      "cell_type": "code",
      "metadata": {
        "id": "MX1heZSHlyRg",
        "colab_type": "code",
        "colab": {}
      },
      "source": [
        "# load the model\n",
        "from tensorflow.keras.models import load_model\n",
        "bestmodel = load_model(\"model.h5\")"
      ],
      "execution_count": 0,
      "outputs": []
    },
    {
      "cell_type": "markdown",
      "metadata": {
        "id": "TJcoZ7_zm8ix",
        "colab_type": "text"
      },
      "source": [
        "## Predict on a text"
      ]
    },
    {
      "cell_type": "code",
      "metadata": {
        "id": "Up5zOpHWm7TL",
        "colab_type": "code",
        "colab": {
          "base_uri": "https://localhost:8080/",
          "height": 51
        },
        "outputId": "1aec247e-da6d-4f29-b749-1bf18a01b9e0"
      },
      "source": [
        "text2 = ['amazon.in - Invoice of your bill']\n",
        "text1 = ['Mobile Internet Usage Information']\n",
        "text = ['Great festivities bring great CashBack']\n",
        "#vectorizing the text by the pre-fitted tokenizer instance\n",
        "text = t.texts_to_sequences(text)\n",
        "#padding the text to have exactly the same shape as `embedding` input\n",
        "text = pad_sequences(text, maxlen=34, dtype='int32', value=0)\n",
        "#print(text)\n",
        "\n",
        "label = bestmodel.predict(text, batch_size=1, verbose = 1)[0]\n",
        "print(\"Finance\") if(pd.np.argmax(label) == 2) else print(\"MaybeUseful\") if (pd.np.argmax(label) == 1) else print(\"NotFinance\")"
      ],
      "execution_count": 33,
      "outputs": [
        {
          "output_type": "stream",
          "text": [
            "\r1/1 [==============================] - 0s 190ms/sample\n",
            "Finance\n"
          ],
          "name": "stdout"
        }
      ]
    },
    {
      "cell_type": "markdown",
      "metadata": {
        "id": "pC-SGtAqqK3p",
        "colab_type": "text"
      },
      "source": [
        "## Save the dataframes"
      ]
    },
    {
      "cell_type": "code",
      "metadata": {
        "id": "219OF7_2mkz3",
        "colab_type": "code",
        "outputId": "152bad83-c2d9-4e66-9b29-3fb265f0424b",
        "colab": {
          "base_uri": "https://localhost:8080/",
          "height": 85
        }
      },
      "source": [
        "df.Tags.value_counts()\n",
        "#df.Tags\n",
        "#print(df.Tags)\n"
      ],
      "execution_count": 27,
      "outputs": [
        {
          "output_type": "execute_result",
          "data": {
            "text/plain": [
              "NotFinance     23084\n",
              "Finance         1141\n",
              "MaybeUseful      372\n",
              "Name: Tags, dtype: int64"
            ]
          },
          "metadata": {
            "tags": []
          },
          "execution_count": 27
        }
      ]
    },
    {
      "cell_type": "code",
      "metadata": {
        "id": "30L2z97oqCk8",
        "colab_type": "code",
        "colab": {}
      },
      "source": [
        "df[df.Tags=='Finance'].to_csv('financial_emails.csv', index=False)"
      ],
      "execution_count": 0,
      "outputs": []
    },
    {
      "cell_type": "code",
      "metadata": {
        "id": "nnQd5jhhqVY2",
        "colab_type": "code",
        "colab": {}
      },
      "source": [
        "df[df.Tags=='MaybeUseful'].to_csv('maybeuseful_emails.csv', index=False)"
      ],
      "execution_count": 0,
      "outputs": []
    },
    {
      "cell_type": "markdown",
      "metadata": {
        "id": "vCl2ZE-VmOvf",
        "colab_type": "text"
      },
      "source": [
        "**Anonymize the dataset before saving it in drive**"
      ]
    },
    {
      "cell_type": "markdown",
      "metadata": {
        "id": "GJGx5vMvq3g7",
        "colab_type": "text"
      },
      "source": [
        "## Save the csv files for later use"
      ]
    },
    {
      "cell_type": "code",
      "metadata": {
        "id": "n_N3SZTzq1c7",
        "colab_type": "code",
        "colab": {}
      },
      "source": [
        "!cp 'financial_emails.csv' 'drive/My Drive/Colab Notebooks/' "
      ],
      "execution_count": 0,
      "outputs": []
    },
    {
      "cell_type": "code",
      "metadata": {
        "id": "-MSQ2doHq2QH",
        "colab_type": "code",
        "colab": {}
      },
      "source": [
        "!cp 'maybeuseful_emails.csv' 'drive/My Drive/Colab Notebooks/' "
      ],
      "execution_count": 0,
      "outputs": []
    }
  ]
}