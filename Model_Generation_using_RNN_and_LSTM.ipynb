{
  "nbformat": 4,
  "nbformat_minor": 0,
  "metadata": {
    "colab": {
      "name": "Model Generation using RNN and LSTM.ipynb",
      "version": "0.3.2",
      "provenance": [],
      "include_colab_link": true
    },
    "kernelspec": {
      "name": "python3",
      "display_name": "Python 3"
    },
    "accelerator": "GPU"
  },
  "cells": [
    {
      "cell_type": "markdown",
      "metadata": {
        "id": "view-in-github",
        "colab_type": "text"
      },
      "source": [
        "<a href=\"https://colab.research.google.com/github/raghumriyer/colab/blob/master/Model_Generation_using_RNN_and_LSTM.ipynb\" target=\"_parent\"><img src=\"https://colab.research.google.com/assets/colab-badge.svg\" alt=\"Open In Colab\"/></a>"
      ]
    },
    {
      "cell_type": "code",
      "metadata": {
        "id": "HXjeuLszPghQ",
        "colab_type": "code",
        "colab": {}
      },
      "source": [
        "import numpy\n",
        "import os\n",
        "from keras.models import Sequential\n",
        "from keras.layers import Dense\n",
        "from keras.layers import Dropout\n",
        "from keras.layers import LSTM\n",
        "from keras.callbacks import ModelCheckpoint\n",
        "from keras.utils import np_utils"
      ],
      "execution_count": 0,
      "outputs": []
    },
    {
      "cell_type": "code",
      "metadata": {
        "id": "N6vuQZGRX0SZ",
        "colab_type": "code",
        "outputId": "ada65136-fc35-4ff9-bf98-650f8b978983",
        "colab": {
          "base_uri": "https://localhost:8080/",
          "height": 34
        }
      },
      "source": [
        "from google.colab import drive\n",
        "drive.mount('/content/drive')\n",
        "file = \"wonderland.txt\"\n",
        "absFile = os.path.abspath(\"/content/drive/My Drive/EIP3/\"+file)"
      ],
      "execution_count": 8,
      "outputs": [
        {
          "output_type": "stream",
          "text": [
            "Drive already mounted at /content/drive; to attempt to forcibly remount, call drive.mount(\"/content/drive\", force_remount=True).\n"
          ],
          "name": "stdout"
        }
      ]
    },
    {
      "cell_type": "code",
      "metadata": {
        "id": "30iSVWc6P3pA",
        "colab_type": "code",
        "colab": {}
      },
      "source": [
        "# load ascii text and covert to lowercase\n",
        "\n",
        "#filename = \"wonderland.txt\"\n",
        "raw_text = open(absFile).read()\n",
        "raw_text = raw_text.lower()"
      ],
      "execution_count": 0,
      "outputs": []
    },
    {
      "cell_type": "code",
      "metadata": {
        "id": "wacCVal_P6nW",
        "colab_type": "code",
        "colab": {}
      },
      "source": [
        "# create mapping of unique chars to integers\n",
        "chars = sorted(list(set(raw_text)))\n",
        "char_to_int = dict((c, i) for i, c in enumerate(chars))"
      ],
      "execution_count": 0,
      "outputs": []
    },
    {
      "cell_type": "code",
      "metadata": {
        "id": "H2t6Czo4QBZp",
        "colab_type": "code",
        "outputId": "d4cbefee-fcb2-457b-cb8c-99a2068e671b",
        "colab": {
          "base_uri": "https://localhost:8080/",
          "height": 51
        }
      },
      "source": [
        "n_chars = len(raw_text)\n",
        "n_vocab = len(chars)\n",
        "print (\"Total Characters: \", n_chars)\n",
        "print (\"Total Vocab: \", n_vocab)"
      ],
      "execution_count": 11,
      "outputs": [
        {
          "output_type": "stream",
          "text": [
            "Total Characters:  163781\n",
            "Total Vocab:  59\n"
          ],
          "name": "stdout"
        }
      ]
    },
    {
      "cell_type": "code",
      "metadata": {
        "id": "i6olWlDZQF18",
        "colab_type": "code",
        "outputId": "71061c0d-2cab-49c8-9b65-fa7612fe9d38",
        "colab": {
          "base_uri": "https://localhost:8080/",
          "height": 34
        }
      },
      "source": [
        "# prepare the dataset of input to output pairs encoded as integers\n",
        "seq_length = 100\n",
        "dataX = []\n",
        "dataY = []\n",
        "for i in range(0, n_chars - seq_length, 1):\n",
        "\tseq_in = raw_text[i:i + seq_length]\n",
        "\tseq_out = raw_text[i + seq_length]\n",
        "\tdataX.append([char_to_int[char] for char in seq_in])\n",
        "\tdataY.append(char_to_int[seq_out])\n",
        "n_patterns = len(dataX)\n",
        "print (\"Total Patterns: \", n_patterns)"
      ],
      "execution_count": 12,
      "outputs": [
        {
          "output_type": "stream",
          "text": [
            "Total Patterns:  163681\n"
          ],
          "name": "stdout"
        }
      ]
    },
    {
      "cell_type": "code",
      "metadata": {
        "id": "YgHWoMUSZsFp",
        "colab_type": "code",
        "colab": {}
      },
      "source": [
        "# reshape X to be [samples, time steps, features]\n",
        "X = numpy.reshape(dataX, (n_patterns, seq_length, 1))\n",
        "# normalize\n",
        "X = X / float(n_vocab)\n",
        "# one hot encode the output variable\n",
        "y = np_utils.to_categorical(dataY)\n",
        "# define the LSTM model"
      ],
      "execution_count": 0,
      "outputs": []
    },
    {
      "cell_type": "code",
      "metadata": {
        "id": "_jacjCdJQVP7",
        "colab_type": "code",
        "colab": {
          "base_uri": "https://localhost:8080/",
          "height": 309
        },
        "outputId": "e70df1fc-72d9-4688-e508-a324f8546604"
      },
      "source": [
        "# define the LSTM model\n",
        "model = Sequential()\n",
        "model.add(LSTM(256, input_shape=(X.shape[1], X.shape[2]), return_sequences=True))\n",
        "model.add(Dropout(0.1))\n",
        "model.add(LSTM(256))\n",
        "#model.add(Dropout(0.1))\n",
        "model.add(Dense(y.shape[1], activation='softmax'))\n",
        "model.compile(loss='categorical_crossentropy', optimizer='adam')\n"
      ],
      "execution_count": 14,
      "outputs": [
        {
          "output_type": "stream",
          "text": [
            "WARNING: Logging before flag parsing goes to stderr.\n",
            "W0721 19:22:33.517542 139819821676416 deprecation_wrapper.py:119] From /usr/local/lib/python3.6/dist-packages/keras/backend/tensorflow_backend.py:74: The name tf.get_default_graph is deprecated. Please use tf.compat.v1.get_default_graph instead.\n",
            "\n",
            "W0721 19:22:33.553462 139819821676416 deprecation_wrapper.py:119] From /usr/local/lib/python3.6/dist-packages/keras/backend/tensorflow_backend.py:517: The name tf.placeholder is deprecated. Please use tf.compat.v1.placeholder instead.\n",
            "\n",
            "W0721 19:22:33.562401 139819821676416 deprecation_wrapper.py:119] From /usr/local/lib/python3.6/dist-packages/keras/backend/tensorflow_backend.py:4138: The name tf.random_uniform is deprecated. Please use tf.random.uniform instead.\n",
            "\n",
            "W0721 19:22:33.890110 139819821676416 deprecation_wrapper.py:119] From /usr/local/lib/python3.6/dist-packages/keras/backend/tensorflow_backend.py:133: The name tf.placeholder_with_default is deprecated. Please use tf.compat.v1.placeholder_with_default instead.\n",
            "\n",
            "W0721 19:22:33.900217 139819821676416 deprecation.py:506] From /usr/local/lib/python3.6/dist-packages/keras/backend/tensorflow_backend.py:3445: calling dropout (from tensorflow.python.ops.nn_ops) with keep_prob is deprecated and will be removed in a future version.\n",
            "Instructions for updating:\n",
            "Please use `rate` instead of `keep_prob`. Rate should be set to `rate = 1 - keep_prob`.\n",
            "W0721 19:22:34.226679 139819821676416 deprecation_wrapper.py:119] From /usr/local/lib/python3.6/dist-packages/keras/optimizers.py:790: The name tf.train.Optimizer is deprecated. Please use tf.compat.v1.train.Optimizer instead.\n",
            "\n",
            "W0721 19:22:34.251824 139819821676416 deprecation_wrapper.py:119] From /usr/local/lib/python3.6/dist-packages/keras/backend/tensorflow_backend.py:3295: The name tf.log is deprecated. Please use tf.math.log instead.\n",
            "\n"
          ],
          "name": "stderr"
        }
      ]
    },
    {
      "cell_type": "code",
      "metadata": {
        "id": "dJk0JTT3QY5G",
        "colab_type": "code",
        "colab": {}
      },
      "source": [
        "# define the checkpoint\n",
        "#os.path.abspath(\"/content/drive/My Drive/EIP3/\"+file)\n",
        "#filepath=\"weights-improvement-{epoch:02d}-{loss:.4f}.hdf5\"\n",
        "filepath=\"weights-improvement-{epoch:02d}-{loss:.4f}.hdf5\"\n",
        "absFilepath = os.path.abspath(\"/content/drive/My Drive/EIP3/\"+filepath)\n",
        "\n",
        "checkpoint = ModelCheckpoint(absFilepath, monitor='loss', verbose=1, save_best_only=True, mode='min')\n",
        "callbacks_list = [checkpoint]"
      ],
      "execution_count": 0,
      "outputs": []
    },
    {
      "cell_type": "code",
      "metadata": {
        "id": "OTqRyCSZQbl3",
        "colab_type": "code",
        "outputId": "08b79565-357e-4a31-9fbf-86bf7f119b04",
        "colab": {
          "base_uri": "https://localhost:8080/",
          "height": 1000
        }
      },
      "source": [
        "model.fit(X, y, epochs=100, batch_size=64, callbacks=callbacks_list)"
      ],
      "execution_count": 0,
      "outputs": [
        {
          "output_type": "stream",
          "text": [
            "W0721 19:22:34.633058 139819821676416 deprecation.py:323] From /usr/local/lib/python3.6/dist-packages/tensorflow/python/ops/math_grad.py:1250: add_dispatch_support.<locals>.wrapper (from tensorflow.python.ops.array_ops) is deprecated and will be removed in a future version.\n",
            "Instructions for updating:\n",
            "Use tf.where in 2.0, which has the same broadcast rule as np.where\n"
          ],
          "name": "stderr"
        },
        {
          "output_type": "stream",
          "text": [
            "Epoch 1/100\n",
            "163681/163681 [==============================] - 721s 4ms/step - loss: 2.8086\n",
            "\n",
            "Epoch 00001: loss improved from inf to 2.80863, saving model to /content/drive/My Drive/EIP3/weights-improvement-01-2.8086.hdf5\n",
            "Epoch 2/100\n",
            "163681/163681 [==============================] - 717s 4ms/step - loss: 2.4836\n",
            "\n",
            "Epoch 00002: loss improved from 2.80863 to 2.48359, saving model to /content/drive/My Drive/EIP3/weights-improvement-02-2.4836.hdf5\n",
            "Epoch 3/100\n",
            "163681/163681 [==============================] - 700s 4ms/step - loss: 2.2904\n",
            "\n",
            "Epoch 00003: loss improved from 2.48359 to 2.29040, saving model to /content/drive/My Drive/EIP3/weights-improvement-03-2.2904.hdf5\n",
            "Epoch 4/100\n",
            "163681/163681 [==============================] - 696s 4ms/step - loss: 2.7698\n",
            "\n",
            "Epoch 00004: loss did not improve from 2.29040\n",
            "Epoch 5/100\n",
            "163681/163681 [==============================] - 708s 4ms/step - loss: 3.0540\n",
            "\n",
            "Epoch 00005: loss did not improve from 2.29040\n",
            "Epoch 6/100\n",
            "163681/163681 [==============================] - 702s 4ms/step - loss: 3.0535\n",
            "\n",
            "Epoch 00006: loss did not improve from 2.29040\n",
            "Epoch 7/100\n",
            "163681/163681 [==============================] - 700s 4ms/step - loss: 2.4707\n",
            "\n",
            "Epoch 00007: loss did not improve from 2.29040\n",
            "Epoch 8/100\n",
            "163681/163681 [==============================] - 700s 4ms/step - loss: 2.0275\n",
            "\n",
            "Epoch 00008: loss improved from 2.29040 to 2.02750, saving model to /content/drive/My Drive/EIP3/weights-improvement-08-2.0275.hdf5\n",
            "Epoch 9/100\n",
            "163681/163681 [==============================] - 689s 4ms/step - loss: 1.9351\n",
            "\n",
            "Epoch 00009: loss improved from 2.02750 to 1.93506, saving model to /content/drive/My Drive/EIP3/weights-improvement-09-1.9351.hdf5\n",
            "Epoch 10/100\n",
            "163681/163681 [==============================] - 669s 4ms/step - loss: 1.8580\n",
            "\n",
            "Epoch 00010: loss improved from 1.93506 to 1.85799, saving model to /content/drive/My Drive/EIP3/weights-improvement-10-1.8580.hdf5\n",
            "Epoch 11/100\n",
            "163681/163681 [==============================] - 668s 4ms/step - loss: 1.7970\n",
            "\n",
            "Epoch 00011: loss improved from 1.85799 to 1.79698, saving model to /content/drive/My Drive/EIP3/weights-improvement-11-1.7970.hdf5\n",
            "Epoch 12/100\n",
            "163681/163681 [==============================] - 666s 4ms/step - loss: 1.7430\n",
            "\n",
            "Epoch 00012: loss improved from 1.79698 to 1.74302, saving model to /content/drive/My Drive/EIP3/weights-improvement-12-1.7430.hdf5\n",
            "Epoch 13/100\n",
            "163681/163681 [==============================] - 663s 4ms/step - loss: 1.6910\n",
            "\n",
            "Epoch 00013: loss improved from 1.74302 to 1.69095, saving model to /content/drive/My Drive/EIP3/weights-improvement-13-1.6910.hdf5\n",
            "Epoch 14/100\n",
            "163681/163681 [==============================] - 663s 4ms/step - loss: 1.6485\n",
            "\n",
            "Epoch 00014: loss improved from 1.69095 to 1.64849, saving model to /content/drive/My Drive/EIP3/weights-improvement-14-1.6485.hdf5\n",
            "Epoch 15/100\n",
            "163681/163681 [==============================] - 663s 4ms/step - loss: 1.6078\n",
            "\n",
            "Epoch 00015: loss improved from 1.64849 to 1.60781, saving model to /content/drive/My Drive/EIP3/weights-improvement-15-1.6078.hdf5\n",
            "Epoch 16/100\n",
            "163681/163681 [==============================] - 664s 4ms/step - loss: 1.5721\n",
            "\n",
            "Epoch 00016: loss improved from 1.60781 to 1.57214, saving model to /content/drive/My Drive/EIP3/weights-improvement-16-1.5721.hdf5\n",
            "Epoch 17/100\n",
            "163681/163681 [==============================] - 664s 4ms/step - loss: 1.5390\n",
            "\n",
            "Epoch 00017: loss improved from 1.57214 to 1.53897, saving model to /content/drive/My Drive/EIP3/weights-improvement-17-1.5390.hdf5\n",
            "Epoch 18/100\n",
            "163681/163681 [==============================] - 666s 4ms/step - loss: 1.5070\n",
            "\n",
            "Epoch 00018: loss improved from 1.53897 to 1.50698, saving model to /content/drive/My Drive/EIP3/weights-improvement-18-1.5070.hdf5\n",
            "Epoch 19/100\n",
            "163681/163681 [==============================] - 664s 4ms/step - loss: 1.4766\n",
            "\n",
            "Epoch 00019: loss improved from 1.50698 to 1.47657, saving model to /content/drive/My Drive/EIP3/weights-improvement-19-1.4766.hdf5\n",
            "Epoch 20/100\n",
            "163681/163681 [==============================] - 666s 4ms/step - loss: 1.4532\n",
            "\n",
            "Epoch 00020: loss improved from 1.47657 to 1.45317, saving model to /content/drive/My Drive/EIP3/weights-improvement-20-1.4532.hdf5\n",
            "Epoch 21/100\n",
            "163681/163681 [==============================] - 675s 4ms/step - loss: 1.4245\n",
            "\n",
            "Epoch 00021: loss improved from 1.45317 to 1.42452, saving model to /content/drive/My Drive/EIP3/weights-improvement-21-1.4245.hdf5\n",
            "Epoch 22/100\n",
            "163681/163681 [==============================] - 673s 4ms/step - loss: 1.4015\n",
            "\n",
            "Epoch 00022: loss improved from 1.42452 to 1.40145, saving model to /content/drive/My Drive/EIP3/weights-improvement-22-1.4015.hdf5\n",
            "Epoch 23/100\n",
            "163681/163681 [==============================] - 675s 4ms/step - loss: 1.3796\n",
            "\n",
            "Epoch 00023: loss improved from 1.40145 to 1.37958, saving model to /content/drive/My Drive/EIP3/weights-improvement-23-1.3796.hdf5\n",
            "Epoch 24/100\n",
            "145024/163681 [=========================>....] - ETA: 1:17 - loss: 1.3558Buffered data was truncated after reaching the output size limit."
          ],
          "name": "stdout"
        }
      ]
    }
  ]
}