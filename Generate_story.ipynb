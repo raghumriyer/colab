{
  "nbformat": 4,
  "nbformat_minor": 0,
  "metadata": {
    "colab": {
      "name": "Generate story.ipynb",
      "version": "0.3.2",
      "provenance": [],
      "include_colab_link": true
    },
    "kernelspec": {
      "name": "python3",
      "display_name": "Python 3"
    },
    "accelerator": "GPU"
  },
  "cells": [
    {
      "cell_type": "markdown",
      "metadata": {
        "id": "view-in-github",
        "colab_type": "text"
      },
      "source": [
        "<a href=\"https://colab.research.google.com/github/raghumriyer/colab/blob/master/Generate_story.ipynb\" target=\"_parent\"><img src=\"https://colab.research.google.com/assets/colab-badge.svg\" alt=\"Open In Colab\"/></a>"
      ]
    },
    {
      "cell_type": "code",
      "metadata": {
        "id": "jloIlXspY8HD",
        "colab_type": "code",
        "colab": {}
      },
      "source": [
        "# Load Larger LSTM network and generate text\n",
        "import sys\n",
        "import os\n",
        "import collections\n",
        "import string\n",
        "import numpy\n",
        "from keras.models import Sequential\n",
        "from keras.preprocessing.sequence import pad_sequences\n",
        "from keras.layers import Dense\n",
        "from keras.layers import Dropout\n",
        "from keras.layers import LSTM\n",
        "from keras.callbacks import ModelCheckpoint\n",
        "from keras.utils import np_utils\n"
      ],
      "execution_count": 0,
      "outputs": []
    },
    {
      "cell_type": "code",
      "metadata": {
        "id": "AQ7U15IQZdV5",
        "colab_type": "code",
        "colab": {
          "base_uri": "https://localhost:8080/",
          "height": 67
        },
        "outputId": "861acff1-a0f7-49fa-ac77-82489ac20e20"
      },
      "source": [
        "# load ascii text and covert to lowercase\n",
        "from google.colab import drive\n",
        "drive.mount('/content/drive')\n",
        "file = \"wonderland.txt\"\n",
        "filename = os.path.abspath(\"/content/drive/My Drive/EIP3/\"+file)\n",
        "\n",
        "#filename = \"wonderland.txt\"\n",
        "raw_text1 = open(filename).read()\n",
        "raw_text1 = raw_text1.lower()\n",
        "\n",
        "table = str.maketrans({key: None for key in string.punctuation})\n",
        "raw_text = raw_text1.translate(table) \n",
        "\n",
        "# create mapping of unique chars to integers, and a reverse mapping\n",
        "chars = sorted(list(set(raw_text)))\n",
        "char_to_int = dict((c, i) for i, c in enumerate(chars))\n",
        "int_to_char = dict((i, c) for i, c in enumerate(chars))\n",
        "# summarize the loaded data\n",
        "n_chars = len(raw_text)\n",
        "n_vocab = len(chars)\n",
        "print(\"Total Characters: \", n_chars)\n",
        "print(\"Total Vocab: \", n_vocab)\n"
      ],
      "execution_count": 137,
      "outputs": [
        {
          "output_type": "stream",
          "text": [
            "Drive already mounted at /content/drive; to attempt to forcibly remount, call drive.mount(\"/content/drive\", force_remount=True).\n",
            "Total Characters:  154861\n",
            "Total Vocab:  39\n"
          ],
          "name": "stdout"
        }
      ]
    },
    {
      "cell_type": "code",
      "metadata": {
        "id": "c3xj4TzUZgO3",
        "colab_type": "code",
        "colab": {
          "base_uri": "https://localhost:8080/",
          "height": 222
        },
        "outputId": "e6142641-e7a7-4446-dd75-e62216dccabe"
      },
      "source": [
        "# prepare the dataset of input to output pairs encoded as integers\n",
        "seq_length = 100\n",
        "dataX = []\n",
        "dataY = []\n",
        "for i in range(0, n_chars - seq_length, 1):\n",
        "\tseq_in = raw_text[i:i + seq_length]\n",
        "\tseq_out = raw_text[i + seq_length]\n",
        "\tdataX.append([char_to_int[char] for char in seq_in])\n",
        "\tdataY.append(char_to_int[seq_out])\n",
        "n_patterns = len(dataX)\n",
        "dataX = pad_sequences(dataX)\n",
        "print(\"Total Patterns: \", n_patterns)\n",
        "# reshape X to be [samples, time steps, features]\n",
        "X = numpy.reshape(dataX, (n_patterns, seq_length, 1))\n",
        "# normalize\n",
        "X = X / float(n_vocab)\n",
        "# one hot encode the output variable\n",
        "y = np_utils.to_categorical(dataY)\n",
        "# define the LSTM model\n",
        "model = Sequential()\n",
        "model.add(LSTM(256, input_shape=(X.shape[1], X.shape[2]), return_sequences=True))\n",
        "model.add(Dropout(0.1))\n",
        "model.add(LSTM(256))\n",
        "#model.add(Dropout(0.1))\n",
        "model.add(Dense(y.shape[1], activation='softmax'))\n",
        "\n",
        "# load the network weights\n",
        "\n",
        "file = \"weights-improvement-09-1.5390-bigger.hdf5\"\n",
        "#file = \"weights-improvement-63-1.0572.hdf5\"\n",
        "filename = os.path.abspath(\"/content/drive/My Drive/EIP3/\"+file)\n",
        "#filename = \"weights-improvement-09-1.5390-bigger.hdf5\"\n",
        "model.load_weights(filename)\n",
        "model.compile(loss='categorical_crossentropy', optimizer='adam')\n",
        "# pick a random seed\n",
        "start = numpy.random.randint(0, len(dataX)-1)\n",
        "pattern = dataX[start]\n",
        "print(\"Seed:\")\n",
        "print(\"\\\"\", ''.join([int_to_char[value] for value in pattern]), \"\\\"\")\n",
        "\n",
        "print(\"The story:\\n\")\n",
        "# generate characters\n",
        "print(\"\\\"\")\n",
        "for i in range(500):\n",
        "\tx = numpy.reshape(pattern, (1, len(pattern), 1))\n",
        "\tx = x / float(n_vocab)\n",
        "\tprediction = model.predict(x, verbose=0)\n",
        "\tindex = numpy.argmax(prediction)\n",
        "\tresult = int_to_char[index]\n",
        "\tseq_in = [int_to_char[value] for value in pattern]\n",
        "\tsys.stdout.write(result)\n",
        "\ta = numpy.array([index])\n",
        "\tpattern=numpy.append(pattern,a)\n",
        "\tpattern = pattern[1:len(pattern)]\n",
        "  \n",
        "print(\"\\\"\")\n",
        "print(\"\\nDone.\")\n"
      ],
      "execution_count": 138,
      "outputs": [
        {
          "output_type": "stream",
          "text": [
            "Total Patterns:  154761\n",
            "Seed:\n",
            "\" g the eggs said the pigeon\n",
            "but i must be on the lookout for serpents night and day why i\n",
            "havent had  \"\n",
            "The story:\n",
            "\n",
            "\"\n",
            "the minu of the sabbit she was not and she would gall the ming and the mock turtle said the mock turtle said the mock turtle said the mock turtle said the mock turtle said the mock turtle said the mock turtle said the mock turtle said the mock turtle said the mock turtle said the mock turtle said the mock turtle said the mock turtle said the mock turtle said the mock turtle said the mock turtle said the mock turtle said the mock turtle said the mock turtle said the mock turtle said the mock turt\"\n",
            "\n",
            "Done.\n"
          ],
          "name": "stdout"
        }
      ]
    }
  ]
}