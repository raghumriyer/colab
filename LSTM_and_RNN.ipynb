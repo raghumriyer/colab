{
  "nbformat": 4,
  "nbformat_minor": 0,
  "metadata": {
    "colab": {
      "name": "LSTM and RNN.ipynb",
      "version": "0.3.2",
      "provenance": [],
      "collapsed_sections": [],
      "include_colab_link": true
    },
    "kernelspec": {
      "name": "python3",
      "display_name": "Python 3"
    },
    "accelerator": "GPU"
  },
  "cells": [
    {
      "cell_type": "markdown",
      "metadata": {
        "id": "view-in-github",
        "colab_type": "text"
      },
      "source": [
        "<a href=\"https://colab.research.google.com/github/raghumriyer/colab/blob/master/LSTM_and_RNN.ipynb\" target=\"_parent\"><img src=\"https://colab.research.google.com/assets/colab-badge.svg\" alt=\"Open In Colab\"/></a>"
      ]
    },
    {
      "cell_type": "code",
      "metadata": {
        "id": "3vAXJUX6RIk9",
        "colab_type": "code",
        "colab": {}
      },
      "source": [
        "# Larger LSTM Network to Generate Text for Alice in Wonderland\n",
        "import numpy\n",
        "import os\n",
        "import collections\n",
        "import string\n",
        "from keras.preprocessing import sequence\n",
        "from keras.preprocessing.sequence import pad_sequences\n",
        "from keras.models import Sequential\n",
        "from keras.layers import Dense\n",
        "from keras.layers import Dropout\n",
        "from keras.layers import LSTM\n",
        "from keras.callbacks import ModelCheckpoint\n",
        "from keras.utils import np_utils"
      ],
      "execution_count": 0,
      "outputs": []
    },
    {
      "cell_type": "code",
      "metadata": {
        "id": "LgkPxXVVRfo7",
        "colab_type": "code",
        "colab": {
          "base_uri": "https://localhost:8080/",
          "height": 34
        },
        "outputId": "f8a98154-5833-4a7e-c20e-cd282f6f06e6"
      },
      "source": [
        "# Load the text file 'Alice in Wonderland' from the google drive location\n",
        "\n",
        "from google.colab import drive\n",
        "drive.mount('/content/drive')\n",
        "file = \"wonderland.txt\"\n",
        "filename = os.path.abspath(\"/content/drive/My Drive/EIP3/\"+file)"
      ],
      "execution_count": 9,
      "outputs": [
        {
          "output_type": "stream",
          "text": [
            "Drive already mounted at /content/drive; to attempt to forcibly remount, call drive.mount(\"/content/drive\", force_remount=True).\n"
          ],
          "name": "stdout"
        }
      ]
    },
    {
      "cell_type": "code",
      "metadata": {
        "id": "8e_C_xgBRSne",
        "colab_type": "code",
        "colab": {
          "base_uri": "https://localhost:8080/",
          "height": 67
        },
        "outputId": "32b7dc3e-5928-4968-a49b-a88cab2f8bf4"
      },
      "source": [
        "# load ascii text and covert to lowercase\n",
        "raw_text = open(filename).read()\n",
        "raw_text = raw_text.lower()\n",
        "\n",
        "# Remove the punctuations from the text.\n",
        "table = str.maketrans({key: None for key in string.punctuation})\n",
        "raw_text = raw_text.translate(table) \n",
        "\n",
        "# create mapping of unique chars to integers\n",
        "chars = sorted(list(set(raw_text)))\n",
        "char_to_int = dict((c, i) for i, c in enumerate(chars))\n",
        "\n",
        "# summarize the loaded data\n",
        "n_chars = len(raw_text)\n",
        "n_vocab = len(chars)\n",
        "print(\"Total Characters: \", n_chars)\n",
        "print(\"Total Vocab: \", n_vocab)\n",
        "\n",
        "# prepare the dataset of input to output pairs encoded as integers\n",
        "seq_length = 100\n",
        "dataX = []\n",
        "dataY = []\n",
        "\n",
        "# load ascii text and covert to lowercase remove = dict.fromkeys(map(ord, '\\n ' + string.punctuation)) table = str.maketrans({key: None for key in string.punctuation}) raw_text1 = open(filename).read() raw_text1 = raw_text1.lower() raw_text = raw_text1.translate(table)  # create mapping of unique chars to integers chars = sorted(list(set(raw_text))) char_to_int = dict((c, i) for i, c in enumerate(chars)) # summarize the loaded data n_chars = len(raw_text) n_vocab = len(chars) print(\"Total Characters: \", n_chars) print(\"Total Vocab: \", n_vocab) # prepare the dataset of input to output pairs encoded as integers seq_length = 100 dataX = []\n",
        "\n",
        "for i in range(0, n_chars - seq_length, 1):\n",
        "\tseq_in = raw_text[i:i + seq_length]\t\n",
        "\tseq_out = raw_text[i + seq_length]\n",
        "\tdataX.append([char_to_int[char] for char in seq_in])\n",
        "\tdataY.append(char_to_int[seq_out])\n",
        "n_patterns = len(dataX)\n",
        "\n",
        "# Pad the sequnce of data with zeros\n",
        "dataX = pad_sequences(dataX)\n",
        "\n",
        "n_patterns = len(dataX)\n",
        "print(\"Total Patterns: \", n_patterns)"
      ],
      "execution_count": 10,
      "outputs": [
        {
          "output_type": "stream",
          "text": [
            "Total Characters:  154861\n",
            "Total Vocab:  39\n",
            "Total Patterns:  154761\n"
          ],
          "name": "stdout"
        }
      ]
    },
    {
      "cell_type": "code",
      "metadata": {
        "id": "fs99nKCQRVHA",
        "colab_type": "code",
        "colab": {}
      },
      "source": [
        "# reshape X to be [samples, time steps, features]\n",
        "X = numpy.reshape(dataX, (n_patterns, seq_length, 1))\n",
        "\n",
        "# normalize\n",
        "X = X / float(n_vocab)\n",
        "\n",
        "# one hot encode the output variable\n",
        "y = np_utils.to_categorical(dataY)"
      ],
      "execution_count": 0,
      "outputs": []
    },
    {
      "cell_type": "code",
      "metadata": {
        "id": "0C6M1Y0yRYja",
        "colab_type": "code",
        "colab": {
          "base_uri": "https://localhost:8080/",
          "height": 269
        },
        "outputId": "bb2f1966-6186-40b2-f329-872a19cbb491"
      },
      "source": [
        "# define the LSTM model\n",
        "model = Sequential()\n",
        "model.add(LSTM(256, input_shape=(X.shape[1], X.shape[2]), return_sequences=True))\n",
        "model.add(Dropout(0.1))\n",
        "model.add(LSTM(256))\n",
        "model.add(Dense(y.shape[1], activation='softmax'))\n",
        "model.compile(loss='categorical_crossentropy', optimizer='adam')\n",
        "model.summary()"
      ],
      "execution_count": 12,
      "outputs": [
        {
          "output_type": "stream",
          "text": [
            "_________________________________________________________________\n",
            "Layer (type)                 Output Shape              Param #   \n",
            "=================================================================\n",
            "lstm_3 (LSTM)                (None, 100, 256)          264192    \n",
            "_________________________________________________________________\n",
            "dropout_2 (Dropout)          (None, 100, 256)          0         \n",
            "_________________________________________________________________\n",
            "lstm_4 (LSTM)                (None, 256)               525312    \n",
            "_________________________________________________________________\n",
            "dense_2 (Dense)              (None, 38)                9766      \n",
            "=================================================================\n",
            "Total params: 799,270\n",
            "Trainable params: 799,270\n",
            "Non-trainable params: 0\n",
            "_________________________________________________________________\n"
          ],
          "name": "stdout"
        }
      ]
    },
    {
      "cell_type": "code",
      "metadata": {
        "id": "Rf_yJSeVRanS",
        "colab_type": "code",
        "colab": {
          "base_uri": "https://localhost:8080/",
          "height": 706
        },
        "outputId": "c7e97437-100f-4d40-a085-681ead0bdd62"
      },
      "source": [
        "# define the checkpoint\n",
        "file=\"weights-improvement-{epoch:02d}-{loss:.4f}-bigger.hdf5\"\n",
        "\n",
        "# save the file to the google drive\n",
        "filepath = os.path.abspath(\"/content/drive/My Drive/EIP3/\"+file)\n",
        "checkpoint = ModelCheckpoint(filepath, monitor='loss', verbose=1, save_best_only=True, mode='min')\n",
        "callbacks_list = [checkpoint]\n",
        "\n",
        "# Weight file already compiled\n",
        "weightFile =\"weights-improvement-22-0.7879-bigger.hdf5\"\n",
        "\n",
        "weightFilepath = os.path.abspath(\"/content/drive/My Drive/EIP3/\"+weightFile)\n",
        "\n",
        "# load the weight file\n",
        "model.load_weights(weightFilepath)\n",
        "\n",
        "# fit the model with epoch of 100 and batch size of 64\n",
        "model.fit(X, y, epochs=10, batch_size=64, callbacks=callbacks_list)"
      ],
      "execution_count": 13,
      "outputs": [
        {
          "output_type": "stream",
          "text": [
            "Epoch 1/10\n",
            "154761/154761 [==============================] - 674s 4ms/step - loss: 0.7989\n",
            "\n",
            "Epoch 00001: loss improved from inf to 0.79888, saving model to /content/drive/My Drive/EIP3/weights-improvement-01-0.7989-bigger.hdf5\n",
            "Epoch 2/10\n",
            "154761/154761 [==============================] - 667s 4ms/step - loss: 2.3476\n",
            "\n",
            "Epoch 00002: loss did not improve from 0.79888\n",
            "Epoch 3/10\n",
            "154761/154761 [==============================] - 664s 4ms/step - loss: 2.7001\n",
            "\n",
            "Epoch 00003: loss did not improve from 0.79888\n",
            "Epoch 4/10\n",
            "154761/154761 [==============================] - 662s 4ms/step - loss: 2.6451\n",
            "\n",
            "Epoch 00004: loss did not improve from 0.79888\n",
            "Epoch 5/10\n",
            "154761/154761 [==============================] - 658s 4ms/step - loss: 2.6168\n",
            "\n",
            "Epoch 00005: loss did not improve from 0.79888\n",
            "Epoch 6/10\n",
            "154761/154761 [==============================] - 657s 4ms/step - loss: 2.5850\n",
            "\n",
            "Epoch 00006: loss did not improve from 0.79888\n",
            "Epoch 7/10\n",
            "154761/154761 [==============================] - 656s 4ms/step - loss: 2.5450\n",
            "\n",
            "Epoch 00007: loss did not improve from 0.79888\n",
            "Epoch 8/10\n",
            "154761/154761 [==============================] - 656s 4ms/step - loss: 2.5105\n",
            "\n",
            "Epoch 00008: loss did not improve from 0.79888\n",
            "Epoch 9/10\n",
            "154761/154761 [==============================] - 658s 4ms/step - loss: 2.4797\n",
            "\n",
            "Epoch 00009: loss did not improve from 0.79888\n",
            "Epoch 10/10\n",
            "154761/154761 [==============================] - 658s 4ms/step - loss: 2.4507\n",
            "\n",
            "Epoch 00010: loss did not improve from 0.79888\n"
          ],
          "name": "stdout"
        },
        {
          "output_type": "execute_result",
          "data": {
            "text/plain": [
              "<keras.callbacks.History at 0x7fdd345a8ba8>"
            ]
          },
          "metadata": {
            "tags": []
          },
          "execution_count": 13
        }
      ]
    }
  ]
}